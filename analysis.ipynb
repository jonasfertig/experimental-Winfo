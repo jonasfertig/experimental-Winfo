{
 "cells": [
  {
   "cell_type": "markdown",
   "id": "aca23959-8ed1-4919-836b-475d65c113be",
   "metadata": {},
   "source": [
    "# The Weather Project"
   ]
  },
  {
   "attachments": {},
   "cell_type": "markdown",
   "id": "a9e7b413-e530-4d5b-b4d2-369796809686",
   "metadata": {},
   "source": [
    "## Experimentdesign\n",
    "Es soll ein **faktorielles Feldexperiment** mit **within-group design** durchgeführt werden, in dem **zwei Faktoren** manipuliert werden, um deren Einfluss auf die Prognosegüte zu untersuchen.  \n",
    "\n",
    "Der **erste Faktor** ist das Wetterportal mit **drei Stufen** (weather.com, wetter.com und accuweather.com).  \r\n",
    "\n",
    "D*r** zweite Fak*o**r ist der Prognosehorizont m*t** drei Stu*e**n (1, 3 und 7 Tag).  \n",
    "\n",
    "\r\n",
    "Jede Untersuchungseinheit **r**d 3x3=9 Experimentkondit**n**en ausgesetzt. Die Reihenfolge der Konditionen ist nicht von Bedeutung (d.h. keine randomisierte Zuordnung erforderlh.  \n",
    "\n",
    " \r\n",
    "Die abhängigen Variablen werden im Anschluss ges**s**en (post-test only s****i).\r\n"
   ]
  },
  {
   "cell_type": "markdown",
   "id": "10987df0-d805-417e-a886-ea703dc35c7e",
   "metadata": {},
   "source": [
    "## Imports"
   ]
  },
  {
   "cell_type": "code",
   "execution_count": 3,
   "id": "59588fd6-c8d0-4425-af42-0ed9a82c268b",
   "metadata": {},
   "outputs": [],
   "source": [
    "import pandas as pd\n",
    "import numpy as np\n",
    "import seaborn as sns\n",
    "import matplotlib.pyplot as plt"
   ]
  },
  {
   "cell_type": "code",
   "execution_count": 4,
   "id": "8ad694c1-695e-4477-a044-c768b2fd7b63",
   "metadata": {},
   "outputs": [],
   "source": [
    "# Wettervorhersagen zum Stuttgarter Flughafen\n",
    "accuweather_str = pd.read_excel('daten_accuweather.xlsx', header=1, sheet_name=\"Stuttgart\")\n",
    "accuweather_str[\"Datum\"] = pd.to_datetime(accuweather_str[\"Datum\"])\n",
    "weather_str = pd.read_excel('daten_weather_com.xlsx', header=1, sheet_name=\"Stuttgart\")\n",
    "weather_str[\"Datum\"] = pd.to_datetime(weather_str[\"Datum\"])\n",
    "wetter_str = pd.read_excel('Wetter_com_daten.xlsx', header=0, sheet_name=\"Stuttgart\")\n",
    "wetter_str[\"Datum\"] = pd.to_datetime(wetter_str[\"Datum\"])"
   ]
  },
  {
   "cell_type": "code",
   "execution_count": 5,
   "id": "84323931-5b69-4f98-b416-6f619c45021f",
   "metadata": {},
   "outputs": [],
   "source": [
    "# Wettervorhersagen für Manaus\n",
    "accuweather_man = pd.read_excel('daten_accuweather.xlsx', header=1, sheet_name=\"Manaus\")\n",
    "accuweather_man[\"Datum\"] = pd.to_datetime(accuweather_man[\"Datum\"])\n",
    "weather_man = pd.read_excel('daten_weather_com.xlsx', header=1, sheet_name=\"Manaus\")\n",
    "weather_man[\"Datum\"] = pd.to_datetime(weather_man[\"Datum\"])\n",
    "wetter_man = pd.read_excel('Wetter_com_daten.xlsx', header=0, sheet_name=\"Manaus\")\n",
    "wetter_man[\"Datum\"] = pd.to_datetime(wetter_man[\"Datum\"])"
   ]
  },
  {
   "cell_type": "code",
   "execution_count": 6,
   "id": "faadc4ea-0428-4a98-aa7d-5c92bbf82be4",
   "metadata": {},
   "outputs": [],
   "source": [
    "# Wettervorhersagen für Juneau\n",
    "accuweather_jun = pd.read_excel('daten_accuweather.xlsx', header=1, sheet_name=\"Juneau\")\n",
    "accuweather_jun[\"Datum\"] = pd.to_datetime(accuweather_jun[\"Datum\"])\n",
    "weather_jun = pd.read_excel('daten_weather_com.xlsx', header=1, sheet_name=\"Juneau\")\n",
    "weather_jun[\"Datum\"] = pd.to_datetime(weather_jun[\"Datum\"])\n",
    "wetter_jun = pd.read_excel('Wetter_com_daten.xlsx', header=0, sheet_name=\"Juneau\")\n",
    "wetter_jun[\"Datum\"] = pd.to_datetime(wetter_jun[\"Datum\"])"
   ]
  },
  {
   "cell_type": "code",
   "execution_count": 7,
   "id": "9fb8cf78-84e7-46d5-9d57-fa4bf665fc78",
   "metadata": {},
   "outputs": [
    {
     "name": "stdout",
     "output_type": "stream",
     "text": [
      "       Datum Tageszeit  Tage  Min Temperatur  Max Temperatur  \\\n",
      "0 2023-11-20   Morgens     1               7              11   \n",
      "1 2023-11-20   Morgens     3               0               3   \n",
      "2 2023-11-20   Morgens     7               6               9   \n",
      "3 2023-11-20    Abends     1               7              11   \n",
      "4 2023-11-20    Abends     3               0               4   \n",
      "\n",
      "   Niederschlagswahrscheinlichkeit  Windgeschwindigkeit Windrichtung  \\\n",
      "0                               90                   13           SW   \n",
      "1                               20                    6            N   \n",
      "2                               90                   16           SW   \n",
      "3                               90                   12           SW   \n",
      "4                               15                    6            N   \n",
      "\n",
      "   Niederschlagmenge  \n",
      "0                0.5  \n",
      "1                0.0  \n",
      "2                3.3  \n",
      "3                0.4  \n",
      "4                0.0  \n"
     ]
    }
   ],
   "source": [
    "print(wetter_str.head())"
   ]
  },
  {
   "attachments": {},
   "cell_type": "markdown",
   "id": "46a5dca9-a22f-4e5f-a470-f70f65ec1568",
   "metadata": {},
   "source": [
    "Realdaten Spalten:\n",
    "date\ttmin\ttmax\tprcp\twdir\twspd\r\n"
   ]
  },
  {
   "cell_type": "code",
   "execution_count": 8,
   "id": "b4cb1133-4d70-4dd5-afbb-6d121c2ce917",
   "metadata": {},
   "outputs": [],
   "source": [
    "# Realdaten\n",
    "real_str = pd.read_excel('real_str.xlsx', usecols=[\"date\", \"tmin\", \"tmax\", \"prcp\", \"wdir\", \"wspd\"], header=0)\n",
    "real_str[\"date\"] = pd.to_datetime(real_str[\"date\"])\n",
    "real_man = pd.read_excel('real_man.xlsx', usecols=[\"date\", \"tmin\", \"tmax\", \"prcp\", \"wdir\", \"wspd\"], header=0)\n",
    "real_man[\"date\"] = pd.to_datetime(real_man[\"date\"])\n",
    "real_jun = pd.read_excel('real_jun.xlsx', usecols=[\"date\", \"tmin\", \"tmax\", \"prcp\", \"wdir\", \"wspd\"], header=0)\n",
    "real_jun[\"date\"] = pd.to_datetime(real_jun[\"date\"])"
   ]
  },
  {
   "cell_type": "code",
   "execution_count": 9,
   "id": "5c8150b0-cddc-4e34-9c8e-d91e671e1260",
   "metadata": {},
   "outputs": [],
   "source": [
    "dataframes = [[accuweather_str, weather_str, wetter_str],[accuweather_man, weather_man, wetter_man],[accuweather_jun, weather_jun, wetter_jun]]\n",
    "for x in dataframes:\n",
    "    for y in x:\n",
    "        #adding forecast day\n",
    "        y[\"fc_date\"] = y[\"Datum\"] + pd.to_timedelta(y['Tage'], unit='D')\n",
    "        y[\"dayofmonth\"] = y[\"fc_date\"].dt.day\n",
    "        y[\"month\"] = y[\"fc_date\"].dt.month"
   ]
  },
  {
   "cell_type": "markdown",
   "id": "b85cb1db-aa6d-4eb8-9e6a-23b4e9235f26",
   "metadata": {},
   "source": [
    "## Plotting"
   ]
  },
  {
   "cell_type": "code",
   "execution_count": 18,
   "id": "ac881fdb-00dd-4fcd-93ea-a0619c008e30",
   "metadata": {},
   "outputs": [
    {
     "ename": "AttributeError",
     "evalue": "'DataFrame' object has no attribute 'append'",
     "output_type": "error",
     "traceback": [
      "\u001b[1;31m---------------------------------------------------------------------------\u001b[0m",
      "\u001b[1;31mAttributeError\u001b[0m                            Traceback (most recent call last)",
      "\u001b[1;32m~\\AppData\\Local\\Temp\\ipykernel_455892\\321334543.py\u001b[0m in \u001b[0;36m?\u001b[1;34m()\u001b[0m\n\u001b[0;32m     53\u001b[0m         \u001b[0mi\u001b[0m \u001b[1;33m=\u001b[0m \u001b[0mi\u001b[0m\u001b[1;33m.\u001b[0m\u001b[0mreset_index\u001b[0m\u001b[1;33m(\u001b[0m\u001b[0mdrop\u001b[0m\u001b[1;33m=\u001b[0m\u001b[1;32mTrue\u001b[0m\u001b[1;33m)\u001b[0m\u001b[1;33m\u001b[0m\u001b[1;33m\u001b[0m\u001b[0m\n\u001b[0;32m     54\u001b[0m         \u001b[1;32mif\u001b[0m \u001b[0mfull_df\u001b[0m\u001b[1;33m.\u001b[0m\u001b[0mempty\u001b[0m\u001b[1;33m:\u001b[0m\u001b[1;33m\u001b[0m\u001b[1;33m\u001b[0m\u001b[0m\n\u001b[0;32m     55\u001b[0m             \u001b[0mfull_df\u001b[0m \u001b[1;33m=\u001b[0m \u001b[0mpd\u001b[0m\u001b[1;33m.\u001b[0m\u001b[0mDataFrame\u001b[0m\u001b[1;33m(\u001b[0m\u001b[0mi\u001b[0m\u001b[1;33m)\u001b[0m\u001b[1;33m\u001b[0m\u001b[1;33m\u001b[0m\u001b[0m\n\u001b[0;32m     56\u001b[0m         \u001b[1;32melse\u001b[0m\u001b[1;33m:\u001b[0m\u001b[1;33m\u001b[0m\u001b[1;33m\u001b[0m\u001b[0m\n\u001b[1;32m---> 57\u001b[1;33m             \u001b[0mfull_df\u001b[0m \u001b[1;33m=\u001b[0m \u001b[0mfull_df\u001b[0m\u001b[1;33m.\u001b[0m\u001b[0mappend\u001b[0m\u001b[1;33m(\u001b[0m\u001b[0mpd\u001b[0m\u001b[1;33m.\u001b[0m\u001b[0mDataFrame\u001b[0m\u001b[1;33m(\u001b[0m\u001b[0mi\u001b[0m\u001b[1;33m)\u001b[0m\u001b[1;33m,\u001b[0m \u001b[0mignore_index\u001b[0m\u001b[1;33m=\u001b[0m\u001b[1;32mTrue\u001b[0m\u001b[1;33m,\u001b[0m \u001b[0minplace\u001b[0m\u001b[1;33m=\u001b[0m\u001b[1;32mTrue\u001b[0m\u001b[1;33m)\u001b[0m\u001b[1;33m\u001b[0m\u001b[1;33m\u001b[0m\u001b[0m\n\u001b[0m\u001b[0;32m     58\u001b[0m \u001b[1;33m\u001b[0m\u001b[0m\n\u001b[0;32m     59\u001b[0m \u001b[1;33m\u001b[0m\u001b[0m\n\u001b[0;32m     60\u001b[0m \u001b[0mprint\u001b[0m\u001b[1;33m(\u001b[0m\u001b[0mfull_df\u001b[0m\u001b[1;33m.\u001b[0m\u001b[0mhead\u001b[0m\u001b[1;33m(\u001b[0m\u001b[1;33m)\u001b[0m\u001b[1;33m)\u001b[0m\u001b[1;33m\u001b[0m\u001b[1;33m\u001b[0m\u001b[0m\n",
      "\u001b[1;32m~\\AppData\\Local\\Programs\\Python\\Python311\\Lib\\site-packages\\pandas\\core\\generic.py\u001b[0m in \u001b[0;36m?\u001b[1;34m(self, name)\u001b[0m\n\u001b[0;32m   6200\u001b[0m             \u001b[1;32mand\u001b[0m \u001b[0mname\u001b[0m \u001b[1;32mnot\u001b[0m \u001b[1;32min\u001b[0m \u001b[0mself\u001b[0m\u001b[1;33m.\u001b[0m\u001b[0m_accessors\u001b[0m\u001b[1;33m\u001b[0m\u001b[1;33m\u001b[0m\u001b[0m\n\u001b[0;32m   6201\u001b[0m             \u001b[1;32mand\u001b[0m \u001b[0mself\u001b[0m\u001b[1;33m.\u001b[0m\u001b[0m_info_axis\u001b[0m\u001b[1;33m.\u001b[0m\u001b[0m_can_hold_identifiers_and_holds_name\u001b[0m\u001b[1;33m(\u001b[0m\u001b[0mname\u001b[0m\u001b[1;33m)\u001b[0m\u001b[1;33m\u001b[0m\u001b[1;33m\u001b[0m\u001b[0m\n\u001b[0;32m   6202\u001b[0m         ):\n\u001b[0;32m   6203\u001b[0m             \u001b[1;32mreturn\u001b[0m \u001b[0mself\u001b[0m\u001b[1;33m[\u001b[0m\u001b[0mname\u001b[0m\u001b[1;33m]\u001b[0m\u001b[1;33m\u001b[0m\u001b[1;33m\u001b[0m\u001b[0m\n\u001b[1;32m-> 6204\u001b[1;33m         \u001b[1;32mreturn\u001b[0m \u001b[0mobject\u001b[0m\u001b[1;33m.\u001b[0m\u001b[0m__getattribute__\u001b[0m\u001b[1;33m(\u001b[0m\u001b[0mself\u001b[0m\u001b[1;33m,\u001b[0m \u001b[0mname\u001b[0m\u001b[1;33m)\u001b[0m\u001b[1;33m\u001b[0m\u001b[1;33m\u001b[0m\u001b[0m\n\u001b[0m",
      "\u001b[1;31mAttributeError\u001b[0m: 'DataFrame' object has no attribute 'append'"
     ]
    }
   ],
   "source": [
    "# start and end of real data needed\n",
    "start_date_1 = pd.to_datetime('2023-11-21')\n",
    "end_date_1 = pd.to_datetime('2023-12-04')\n",
    "\n",
    "start_date_3 = pd.to_datetime('2023-11-23')\n",
    "end_date_3 = pd.to_datetime('2023-12-06')\n",
    "\n",
    "start_date_7 = pd.to_datetime('2023-11-27')\n",
    "end_date_7 = pd.to_datetime('2023-12-10')\n",
    "\n",
    "filtered_real = [None, None, None]\n",
    "wetter = [None, None, None, None, None, None]\n",
    "weather = [None, None, None, None, None, None]\n",
    "accuweather = [None, None, None, None, None, None]\n",
    "# Filter the DataFrame based on the date range\n",
    "filtered_real[0] = real_str[(real_str['date'] >= start_date_1) & (real_str['date'] <= end_date_1)]\n",
    "filtered_real[1] = real_str[(real_str['date'] >= start_date_3) & (real_str['date'] <= end_date_3)]\n",
    "filtered_real[2] = real_str[(real_str['date'] >= start_date_7) & (real_str['date'] <= end_date_7)]\n",
    "\n",
    "#wetter.com\n",
    "wetter[0] = wetter_str[(wetter_str['Tage'] == 1) & (wetter_str['Tageszeit']==\"Morgens\")]\n",
    "wetter[1] = wetter_str[(wetter_str['Tage'] == 1) & (wetter_str['Tageszeit']==\"Abends\")]\n",
    "wetter[2] = wetter_str[(wetter_str['Tage'] == 3) & (wetter_str['Tageszeit']==\"Morgens\")]\n",
    "wetter[3] = wetter_str[(wetter_str['Tage'] == 3) & (wetter_str['Tageszeit']==\"Abends\")]\n",
    "wetter[4] = wetter_str[(wetter_str['Tage'] == 7) & (wetter_str['Tageszeit']==\"Morgens\")]\n",
    "wetter[5] = wetter_str[(wetter_str['Tage'] == 7) & (wetter_str['Tageszeit']==\"Abends\")]\n",
    "\n",
    "#weather.com\n",
    "weather[0] = weather_str[(wetter_str['Tage'] == 1) & (weather_str['Tageszeit']==\"Morgens\")]\n",
    "weather[1] = weather_str[(wetter_str['Tage'] == 1) & (weather_str['Tageszeit']==\"Abends\")]\n",
    "weather[2] = weather_str[(wetter_str['Tage'] == 3) & (weather_str['Tageszeit']==\"Morgens\")]\n",
    "weather[3] = weather_str[(wetter_str['Tage'] == 3) & (weather_str['Tageszeit']==\"Abends\")]\n",
    "weather[4] = weather_str[(wetter_str['Tage'] == 7) & (weather_str['Tageszeit']==\"Morgens\")]\n",
    "weather[5] = weather_str[(wetter_str['Tage'] == 7) & (weather_str['Tageszeit']==\"Abends\")]\n",
    "\n",
    "#accuweather\n",
    "accuweather[0] = accuweather_str[(wetter_str['Tage'] == 1) & (accuweather_str['Tageszeit']==\"Morgens\")]\n",
    "accuweather[1] = accuweather_str[(wetter_str['Tage'] == 1) & (accuweather_str['Tageszeit']==\"Abends\")]\n",
    "accuweather[2] = accuweather_str[(wetter_str['Tage'] == 3) & (accuweather_str['Tageszeit']==\"Morgens\")]\n",
    "accuweather[3] = accuweather_str[(wetter_str['Tage'] == 3) & (accuweather_str['Tageszeit']==\"Abends\")]\n",
    "accuweather[4] = accuweather_str[(wetter_str['Tage'] == 7) & (accuweather_str['Tageszeit']==\"Morgens\")]\n",
    "accuweather[5] = accuweather_str[(wetter_str['Tage'] == 7) & (accuweather_str['Tageszeit']==\"Abends\")]\n",
    "\n",
    "full_df = pd.DataFrame()\n",
    "#combining forecast and real data based on date\n",
    "for slice in range(6):\n",
    "    new_frame = [None, None, None]\n",
    "    new_frame[0] = pd.concat([wetter[slice].set_index('fc_date'), filtered_real[int(slice/2)].set_index('date')], axis=1)\n",
    "    new_frame[1] = pd.concat([weather[slice].set_index('fc_date'), filtered_real[int(slice/2)].set_index('date')], axis=1)\n",
    "    new_frame[2] = pd.concat([accuweather[slice].set_index('fc_date'), filtered_real[int(slice/2)].set_index('date')], axis=1)\n",
    "    for i in new_frame:\n",
    "        i[\"x\"] = range(1, len(i) + 1)\n",
    "        i = i.reset_index(drop=True)\n",
    "        if full_df.empty:\n",
    "            full_df = pd.DataFrame(i)\n",
    "        else:\n",
    "            full_df = full_df.append(i, ignore_index=True)\n",
    "\n",
    "            \n",
    "print(full_df.head())"
   ]
  },
  {
   "cell_type": "markdown",
   "id": "f77eb6c5-8eaa-4ba4-b52f-d424cdeac62d",
   "metadata": {},
   "source": [
    "### Stuttgart"
   ]
  },
  {
   "cell_type": "code",
   "execution_count": null,
   "id": "0316ee02-9572-4127-a5a1-ab6ed6fc1bef",
   "metadata": {},
   "outputs": [],
   "source": [
    "def calcMae(df, value_prog, value_real):\n",
    "    # Calculate the absolute error for each corresponding value\n",
    "    df[\"absolute_error\"] = np.abs(df[value_prog] - df[value_real])\n",
    "    # Calculate the mean absolute error (MAE)\n",
    "    return df[\"absolute_error\"].mean()"
   ]
  },
  {
   "cell_type": "code",
   "execution_count": null,
   "id": "9c8c08e6-5b35-42f1-abf1-b6273ef48a32",
   "metadata": {},
   "outputs": [],
   "source": [
    "def calcMse(df, value_prog, value_real):\n",
    "    df[\"squared_error\"] = ((df[value_prog] - df[value_real]) ** 2)\n",
    "    return df[\"squared_error\"].mean()"
   ]
  },
  {
   "cell_type": "code",
   "execution_count": null,
   "id": "6f53f4f4-2d71-46bc-9039-dcf5ebfe344a",
   "metadata": {},
   "outputs": [],
   "source": []
  },
  {
   "cell_type": "code",
   "execution_count": null,
   "id": "1cd4ddb4-035b-4d2d-948a-71566174a6b5",
   "metadata": {},
   "outputs": [],
   "source": []
  },
  {
   "cell_type": "markdown",
   "id": "92addf34-3201-4ff4-9c64-45521817c446",
   "metadata": {},
   "source": [
    "### Mean Absolute Error"
   ]
  },
  {
   "cell_type": "code",
   "execution_count": null,
   "id": "568c1aeb-bdd4-4309-b911-d9a5d83a1dbf",
   "metadata": {},
   "outputs": [],
   "source": [
    "errors_1, errors_3, errors_7 = {\n",
    "    'value': ['tmin', 'tmax', 'prcp', 'wspd'],\n",
    "    'mae': [0,0,0,0],\n",
    "    'mse': [0,0,0,0],\n",
    "    'nrmse': [0,0,0,0],\n",
    "    'r2': [0,0,0,0],\n",
    "}\n",
    "errors.set_index('value', inplace=True)\n",
    "errors_value_mapping = {'tmin':'Min Temperatur', 'tmax':'Max Temperatur', 'prcp':'Niederschlagswahrscheinlichkeit', 'wspd':'Windgeschwindigkeit'}\n",
    "\n",
    "for df in wetter_str_comb:\n",
    "    for err in errors[\"value\"]:\n",
    "        err\n",
    "        print(\"MAE \" + str(df[\"Tage\"][0]) + \"_\" + str(df[\"Tageszeit\"][0]) + \": \" + str(calcMae(df, \"Min Temperatur\", \"tmin\")))\n",
    "        print(\"MSE \" + str(df[\"Tage\"][0]) + \"_\" + str(df[\"Tageszeit\"][0]) + \": \" + str(calcMse(df, \"Min Temperatur\", \"tmin\")))"
   ]
  },
  {
   "cell_type": "code",
   "execution_count": null,
   "id": "df5cdc4e-2ef2-4f30-b285-14b1a755d1cc",
   "metadata": {},
   "outputs": [],
   "source": [
    "#print(wetter_str_comb[0])\n",
    "sns.lineplot(data=wetter_str_comb[0], x=\"x\", y=[\"absolute_error\", \"squared_error\"])"
   ]
  },
  {
   "cell_type": "code",
   "execution_count": null,
   "id": "8cfe5bbc-4838-4801-b9d5-9eb9aacda044",
   "metadata": {},
   "outputs": [],
   "source": [
    "#print(wetter_str_comb[0])\n",
    "plt.figure(figsize=(10, 6))\n",
    "plt.xlabel('Error Rates')\n",
    "plt.title('Error Rates Lineplot')\n",
    "for frame in wetter_str_comb:\n",
    "    sns.lineplot(data=frame, x=\"x\", y=\"absolute_error\")\n",
    "    sns.lineplot(data=frame, x=\"x\", y=\"squared_error\")\n",
    "plt.show()"
   ]
  },
  {
   "cell_type": "code",
   "execution_count": null,
   "id": "3958ab7d-4379-4bd9-8294-7f04bfcde5bf",
   "metadata": {},
   "outputs": [],
   "source": [
    "plt.figure(figsize=(10, 6))\n",
    "plt.xlabel('Error Rates')\n",
    "plt.title('Error Rates Heatmap')\n",
    "for frame in wetter_str_comb:\n",
    "    sns.heatmap(frame[\"absolute_error\"], annot=True, cmap='YlGnBu', fmt=\".2f\", linewidths=.5)\n",
    "plt.show()"
   ]
  },
  {
   "cell_type": "code",
   "execution_count": null,
   "id": "49b8d53e-eff2-48fc-9e64-5245a6168340",
   "metadata": {},
   "outputs": [],
   "source": []
  }
 ],
 "metadata": {
  "kernelspec": {
   "display_name": "Python 3 (ipykernel)",
   "language": "python",
   "name": "python3"
  },
  "language_info": {
   "codemirror_mode": {
    "name": "ipython",
    "version": 3
   },
   "file_extension": ".py",
   "mimetype": "text/x-python",
   "name": "python",
   "nbconvert_exporter": "python",
   "pygments_lexer": "ipython3",
   "version": "3.11.6"
  }
 },
 "nbformat": 4,
 "nbformat_minor": 5
}
